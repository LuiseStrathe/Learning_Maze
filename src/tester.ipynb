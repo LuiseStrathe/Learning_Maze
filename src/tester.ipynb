{
 "cells": [
  {
   "cell_type": "code",
   "execution_count": 2,
   "metadata": {},
   "outputs": [],
   "source": [
    "from maze.LM_Environment import *\n",
    "from maze.LM_Data import *\n",
    "from q_learn.LM_Q_Helper import *\n",
    "\n",
    "import numpy as np\n",
    "import pandas as pd\n",
    "import random\n",
    "import time\n",
    "from multiprocessing import Pool\n",
    "import re\n",
    "import multiprocessing as mp"
   ]
  },
  {
   "cell_type": "code",
   "execution_count": 3,
   "metadata": {},
   "outputs": [],
   "source": [
    "name_q_table = 'q_table_s2_02'\n",
    "path = '../data/q_learn/policies/'\n",
    "\n",
    "q_table = pd.read_csv(f'{path}{name_q_table}_explored.csv')"
   ]
  },
  {
   "cell_type": "code",
   "execution_count": 4,
   "metadata": {},
   "outputs": [
    {
     "data": {
      "text/plain": [
       "6"
      ]
     },
     "execution_count": 4,
     "metadata": {},
     "output_type": "execute_result"
    }
   ],
   "source": [
    "state = '_                      X _'\n",
    "\n",
    "\n",
    "idx_q = q_table.state[q_table.state == state].index[0]\n",
    "idx_q"
   ]
  },
  {
   "cell_type": "code",
   "execution_count": 30,
   "metadata": {},
   "outputs": [
    {
     "data": {
      "text/plain": [
       "(array([6]),\n",
       " array([[0.04926559, 0.0542031 , 0.03228615, 0.0273686 , 0.01426815]]))"
      ]
     },
     "execution_count": 30,
     "metadata": {},
     "output_type": "execute_result"
    }
   ],
   "source": [
    "opt_qcols = ['sco_wait', 'sco_up', 'sco_down', 'sco_left', 'sco_right']\n",
    "\n",
    "states = q_table.state.values\n",
    "idx_q = np.where(states == state)[0]\n",
    "pvals = np.array(q_table.loc[idx_q, opt_qcols])\n",
    "idx_q, pvals"
   ]
  },
  {
   "cell_type": "code",
   "execution_count": 6,
   "metadata": {},
   "outputs": [
    {
     "data": {
      "text/plain": [
       "array([0.0492655875341914, 0.054203097004551, 0.0322861498668558,\n",
       "       0.0273685987185964, 0.0142681454392827], dtype=object)"
      ]
     },
     "execution_count": 6,
     "metadata": {},
     "output_type": "execute_result"
    }
   ],
   "source": [
    "q_table.iloc[idx_q, 1:6].values"
   ]
  },
  {
   "cell_type": "code",
   "execution_count": 45,
   "metadata": {},
   "outputs": [
    {
     "data": {
      "text/plain": [
       "array([0.04926559, 0.0542031 , 0.03228615, 0.0273686 , 0.01426815])"
      ]
     },
     "execution_count": 45,
     "metadata": {},
     "output_type": "execute_result"
    }
   ],
   "source": [
    "policy = q_table.iloc[:, 1:6].values\n",
    "policy.shape\n",
    "\n",
    "policy[idx_q][0]"
   ]
  },
  {
   "cell_type": "code",
   "execution_count": 112,
   "metadata": {},
   "outputs": [],
   "source": [
    "q_table  = pd.read_csv(f'{path}{name_q_table}_explored.csv')\n",
    "q_table = q_table.iloc[:, 0:6]\n",
    "\n",
    "\n",
    "id = 16031652\n",
    "state = '_XXXXXXXXXXXX XXX   XX   _' \n",
    "pvals = [0.01892812, 0.01783451, 0.0154507,  0.01783462, 0.02092926]\n",
    "counts = [  0.,  0.,  0.,  1.,  0.]\n",
    "score = 2"
   ]
  },
  {
   "cell_type": "code",
   "execution_count": 124,
   "metadata": {},
   "outputs": [
    {
     "name": "stdout",
     "output_type": "stream",
     "text": [
      "['_XXXXXXXXXXXX XXX   XX   _', 0.0, 0.0, 0.0, 2.0, 0.0]\n",
      "new:                          state  sco_wait  sco_up  sco_down  sco_left  sco_right\n",
      "0  _XXXXXXXXXXXX XXX   XX   _       0.0     0.0       0.0       2.0        0.0\n",
      "\n",
      "resulting policy:\n"
     ]
    },
    {
     "data": {
      "text/html": [
       "<div>\n",
       "<style scoped>\n",
       "    .dataframe tbody tr th:only-of-type {\n",
       "        vertical-align: middle;\n",
       "    }\n",
       "\n",
       "    .dataframe tbody tr th {\n",
       "        vertical-align: top;\n",
       "    }\n",
       "\n",
       "    .dataframe thead th {\n",
       "        text-align: right;\n",
       "    }\n",
       "</style>\n",
       "<table border=\"1\" class=\"dataframe\">\n",
       "  <thead>\n",
       "    <tr style=\"text-align: right;\">\n",
       "      <th></th>\n",
       "      <th>state</th>\n",
       "      <th>sco_wait</th>\n",
       "      <th>sco_up</th>\n",
       "      <th>sco_down</th>\n",
       "      <th>sco_left</th>\n",
       "      <th>sco_right</th>\n",
       "    </tr>\n",
       "  </thead>\n",
       "  <tbody>\n",
       "    <tr>\n",
       "      <th>0</th>\n",
       "      <td>_                        _</td>\n",
       "      <td>0.008495</td>\n",
       "      <td>0.006653</td>\n",
       "      <td>0.010567</td>\n",
       "      <td>0.010048</td>\n",
       "      <td>0.012547</td>\n",
       "    </tr>\n",
       "    <tr>\n",
       "      <th>1</th>\n",
       "      <td>_                       8_</td>\n",
       "      <td>0.000000</td>\n",
       "      <td>0.000000</td>\n",
       "      <td>0.000000</td>\n",
       "      <td>0.000000</td>\n",
       "      <td>0.000000</td>\n",
       "    </tr>\n",
       "    <tr>\n",
       "      <th>2</th>\n",
       "      <td>_                       E_</td>\n",
       "      <td>0.000000</td>\n",
       "      <td>0.000000</td>\n",
       "      <td>0.000000</td>\n",
       "      <td>0.000000</td>\n",
       "      <td>0.000000</td>\n",
       "    </tr>\n",
       "    <tr>\n",
       "      <th>3</th>\n",
       "      <td>_                       X_</td>\n",
       "      <td>0.043021</td>\n",
       "      <td>0.035046</td>\n",
       "      <td>0.043732</td>\n",
       "      <td>0.043858</td>\n",
       "      <td>0.033693</td>\n",
       "    </tr>\n",
       "    <tr>\n",
       "      <th>4</th>\n",
       "      <td>_                      8 _</td>\n",
       "      <td>0.069501</td>\n",
       "      <td>0.000000</td>\n",
       "      <td>0.000000</td>\n",
       "      <td>0.084946</td>\n",
       "      <td>0.000000</td>\n",
       "    </tr>\n",
       "    <tr>\n",
       "      <th>...</th>\n",
       "      <td>...</td>\n",
       "      <td>...</td>\n",
       "      <td>...</td>\n",
       "      <td>...</td>\n",
       "      <td>...</td>\n",
       "      <td>...</td>\n",
       "    </tr>\n",
       "    <tr>\n",
       "      <th>17096064</th>\n",
       "      <td>_X8XXX X  XX  X    X   EX_</td>\n",
       "      <td>0.736842</td>\n",
       "      <td>0.736842</td>\n",
       "      <td>0.736842</td>\n",
       "      <td>0.736842</td>\n",
       "      <td>0.736842</td>\n",
       "    </tr>\n",
       "    <tr>\n",
       "      <th>17096065</th>\n",
       "      <td>_X8XXX X XXX XX   XX   XX_</td>\n",
       "      <td>0.000000</td>\n",
       "      <td>0.000000</td>\n",
       "      <td>0.000000</td>\n",
       "      <td>0.000000</td>\n",
       "      <td>0.000000</td>\n",
       "    </tr>\n",
       "    <tr>\n",
       "      <th>17096066</th>\n",
       "      <td>_X8XXX X XXX XX  XXXX XXX_</td>\n",
       "      <td>0.701354</td>\n",
       "      <td>0.701354</td>\n",
       "      <td>0.701354</td>\n",
       "      <td>0.701354</td>\n",
       "      <td>0.701354</td>\n",
       "    </tr>\n",
       "    <tr>\n",
       "      <th>17096067</th>\n",
       "      <td>_X8XXXXX  X   X X XX    X_</td>\n",
       "      <td>0.703581</td>\n",
       "      <td>0.703581</td>\n",
       "      <td>0.703581</td>\n",
       "      <td>0.703581</td>\n",
       "      <td>0.703581</td>\n",
       "    </tr>\n",
       "    <tr>\n",
       "      <th>17096068</th>\n",
       "      <td>_XXXXXXXXXXXX XXX   XX   _</td>\n",
       "      <td>0.000000</td>\n",
       "      <td>0.000000</td>\n",
       "      <td>0.000000</td>\n",
       "      <td>2.000000</td>\n",
       "      <td>0.000000</td>\n",
       "    </tr>\n",
       "  </tbody>\n",
       "</table>\n",
       "<p>17096069 rows × 6 columns</p>\n",
       "</div>"
      ],
      "text/plain": [
       "                               state  sco_wait    sco_up  sco_down  sco_left  \\\n",
       "0         _                        _  0.008495  0.006653  0.010567  0.010048   \n",
       "1         _                       8_  0.000000  0.000000  0.000000  0.000000   \n",
       "2         _                       E_  0.000000  0.000000  0.000000  0.000000   \n",
       "3         _                       X_  0.043021  0.035046  0.043732  0.043858   \n",
       "4         _                      8 _  0.069501  0.000000  0.000000  0.084946   \n",
       "...                              ...       ...       ...       ...       ...   \n",
       "17096064  _X8XXX X  XX  X    X   EX_  0.736842  0.736842  0.736842  0.736842   \n",
       "17096065  _X8XXX X XXX XX   XX   XX_  0.000000  0.000000  0.000000  0.000000   \n",
       "17096066  _X8XXX X XXX XX  XXXX XXX_  0.701354  0.701354  0.701354  0.701354   \n",
       "17096067  _X8XXXXX  X   X X XX    X_  0.703581  0.703581  0.703581  0.703581   \n",
       "17096068  _XXXXXXXXXXXX XXX   XX   _  0.000000  0.000000  0.000000  2.000000   \n",
       "\n",
       "          sco_right  \n",
       "0          0.012547  \n",
       "1          0.000000  \n",
       "2          0.000000  \n",
       "3          0.033693  \n",
       "4          0.000000  \n",
       "...             ...  \n",
       "17096064   0.736842  \n",
       "17096065   0.000000  \n",
       "17096066   0.701354  \n",
       "17096067   0.703581  \n",
       "17096068   0.000000  \n",
       "\n",
       "[17096069 rows x 6 columns]"
      ]
     },
     "execution_count": 124,
     "metadata": {},
     "output_type": "execute_result"
    }
   ],
   "source": [
    "\n",
    "entry = [state, *[score * c for c in counts]]\n",
    "\n",
    "print(entry)\n",
    "new = pd.DataFrame([entry], columns=q_table.columns)\n",
    "print('new: ',new)\n",
    "\n",
    "policy = pd.concat((q_table, new), axis=0, ignore_index=True)\n",
    "\n",
    "print('\\nresulting policy:')\n",
    "policy"
   ]
  },
  {
   "cell_type": "code",
   "execution_count": 14,
   "metadata": {},
   "outputs": [
    {
     "name": "stderr",
     "output_type": "stream",
     "text": [
      "100%|██████████| 10000/10000 [03:54<00:00, 42.61it/s]\n"
     ]
    }
   ],
   "source": [
    "batch_size = 10000\n",
    "games_data = run_random_games(batch_size, 12, 10, 2, 2, 1, 20, 10)"
   ]
  },
  {
   "cell_type": "code",
   "execution_count": 26,
   "metadata": {},
   "outputs": [
    {
     "name": "stdout",
     "output_type": "stream",
     "text": [
      "(231702, 7)\n",
      "(16777191, 12)\n",
      "PAT ^_     :  games-(38546, 7) (0.17)    |   Q-table-(524288, 12)(0.03) \n",
      "PAT ^_    [8X]:  games-(10879, 7) (0.05)    |   Q-table-(524288, 12)(0.03) \n",
      "PAT ^_   [8X]:  games-(12550, 7) (0.05)    |   Q-table-(1048576, 12)(0.06) \n",
      "PAT ^_  [X8]:  games-(12165, 7) (0.05)    |   Q-table-(2097152, 12)(0.13) \n",
      "PAT ^_ X:  games-(12326, 7) (0.05)    |   Q-table-(4194303, 12)(0.25) \n",
      "PAT ^_X :  games-(32565, 7) (0.14)    |   Q-table-(4194303, 12)(0.25) \n",
      "PAT ^_XX[ 8]:  games-(21738, 7) (0.09)    |   Q-table-(2097151, 12)(0.13) \n",
      "PAT ^_XXX:  games-(88701, 7) (0.38)    |   Q-table-(2097130, 12)(0.12) \n",
      "PAT ^_8:  games-(1091, 7) (0.0)    |   Q-table-(0, 12)(0.0) \n",
      "PAT ^_[ X]8:  games-(1141, 7) (0.0)    |   Q-table-(0, 12)(0.0) \n",
      "shares (games/Qtab): 1.0   1.0\n"
     ]
    }
   ],
   "source": [
    "patterns = [  '^_     ', '^_    [8X]',\n",
    "              '^_   [8X]', \n",
    "              '^_  [X8]', \n",
    "              '^_ X', '^_X ', \n",
    "              '^_XX[ 8]', '^_XXX', \n",
    "              '^_8', '^_[ X]8']\n",
    "\n",
    "print(games_data.shape)\n",
    "print(q_table.shape)\n",
    "\n",
    "Qs = []\n",
    "games = []\n",
    "shares, hares = 0, 0\n",
    "\n",
    "for i in range(len(patterns)):\n",
    "    pat = patterns[i]\n",
    "    games.append(games_data[games_data.state.str.match(pat)])\n",
    "    Qs.append(q_table[q_table.state.str.match(pat)])\n",
    "    \n",
    "    share = games[i].shape[0]/len(games_data)\n",
    "    shares += share\n",
    "    hare = Qs[i].shape[0]/len(q_table)\n",
    "    hares += hare\n",
    "    print(f'PAT {pat}:  games-{games[i].shape} ({round(share, 2)})    |   Q-table-{Qs[i].shape}({round(hare, 2)}) ')\n",
    "\n",
    "print(f'shares (games/Qtab): {shares}   {hares}')"
   ]
  },
  {
   "cell_type": "code",
   "execution_count": null,
   "metadata": {},
   "outputs": [],
   "source": []
  }
 ],
 "metadata": {
  "kernelspec": {
   "display_name": "Python 3.9.12 ('DS')",
   "language": "python",
   "name": "python3"
  },
  "language_info": {
   "codemirror_mode": {
    "name": "ipython",
    "version": 3
   },
   "file_extension": ".py",
   "mimetype": "text/x-python",
   "name": "python",
   "nbconvert_exporter": "python",
   "pygments_lexer": "ipython3",
   "version": "3.9.12"
  },
  "orig_nbformat": 4,
  "vscode": {
   "interpreter": {
    "hash": "bbbf1d0d915ba715bef6a62f4b2da281d2a77fb0a8998b443c143629fc44899e"
   }
  }
 },
 "nbformat": 4,
 "nbformat_minor": 2
}
